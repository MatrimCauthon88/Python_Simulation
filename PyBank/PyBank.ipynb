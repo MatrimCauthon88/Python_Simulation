{
 "cells": [
  {
   "cell_type": "code",
   "execution_count": 647,
   "metadata": {},
   "outputs": [],
   "source": [
    "# This is a Program designed to give us the information for the total number of months, the net total, the average change per month, \n",
    "# the gratest monthly increase in profits, and the greatest monthly decrease in profits from a csv file.\n",
    "    # Step one: We import the budget_data csv file as well s NumPy from our anacanda library\n",
    "    # Step two: We define the pathway to open our csv file\n",
    "    # Step three: We define variables for our two columns of date and profit/losses from the budget_data csv file. These variables will be created \n",
    "        # as a blank list and called profit_losses and date. The variables will be used to help us print our results as well as output those results \n",
    "        # to a new csv file that we will call financial_analysis.csv\n",
    "    # Step four: We open our csv file as a readable document\n",
    "    # Step five: We append the two blank lists from step three to contain the dates from the date column into the date list and the profit/losses \n",
    "        # column into the profit_loses list\n",
    "    # Step six: We create and define two variables called total_months and net_total. The variable total_months gives us the length of the date list.\n",
    "        # The variable net_total gives us the sum of the profit_losses list.\n",
    "    # Step seven: We create and define two variables profit_losses_dif and avg_change. The profit_losses_dif uses the NumPy diff function \n",
    "        # to calculate the differences from month to month and create a new list with those values. The avg_change variable divides the sum of the \n",
    "        # profit_losses_dif variable by the length of the profit_losses_dif variable and the uses the round function to round the answer to two \n",
    "        # decimal places.\n",
    "    # Step eight: We creates a dictionary called budget_data_diff using the two lists of profit_losses_diff and date as the key and value respectively. \n",
    "        # This is accomplished by using the zip function inside of the dictionary function. We also only call the second through the last row from \n",
    "        # the date list inside the dictionary definition.\n",
    "    # Step nine: We use a for loop using the key value pairs from the budget_data_diff dictionary from step eight to create two variables \n",
    "        # grtest_profit_inc and grtest_profit_dec. This calculates the greatest profit increase and decrease respectively by using the \n",
    "        # profit_losses_dif key to find the max or greatest value from the profit_loss_diff key for the greatest profit increse and the minimum \n",
    "        # or smallest value from the profit_losses_diff key for the greatest profit decrease. We also use call the month or value in conjunction \n",
    "        # with the max and minimum as part of the variables.\n",
    "    # Step ten: We print the results using the variables total_month for the number of total months, net_total for the net total of profit and losses,\n",
    "        # avg_change to give us the average change of differences from moth to month, grtest_profit_inc to give us the greatest profit increase and \n",
    "        # the month it occured, and grtest_profit_dec for the greatest profit decrease and the moth it occured.\n",
    "    # Step eleven: We create two variables eader_agg and output in order to use later to create an output csv file with headers and our results.\n",
    "    # Step twelve: We set the output path to a csv file called financial_analysis.csv\n",
    "    # Step thirteen: Write the output csv file to financial_analysis.csv using the header_agg and output variables to create the header and \n",
    "        # information in the created csv file."
   ]
  },
  {
   "cell_type": "code",
   "execution_count": 648,
   "metadata": {},
   "outputs": [],
   "source": [
    "#Import CSV File and NumPy\n",
    "from pathlib import Path\n",
    "import csv\n",
    "import numpy\n",
    "\n",
    "# Define CSV pathway\n",
    "csvpath=Path('../PyBank/budget_data.csv')\n"
   ]
  },
  {
   "cell_type": "code",
   "execution_count": 649,
   "metadata": {},
   "outputs": [],
   "source": [
    "#Define Variables\n",
    "profit_losses=[]\n",
    "date=[]"
   ]
  },
  {
   "cell_type": "code",
   "execution_count": 650,
   "metadata": {},
   "outputs": [],
   "source": [
    "#Open CSV File\n",
    "with open(csvpath, 'r') as csvfile:\n",
    "    csvreader=csv.reader(csvfile, delimiter=',')\n",
    "    header=next(csvreader)\n",
    "    \n",
    "    #Append date list and profit_losses list\n",
    "    for line in csvreader:\n",
    "        date.append(str(line[0]))\n",
    "        profit_losses.append(int(line[1]))"
   ]
  },
  {
   "cell_type": "code",
   "execution_count": 651,
   "metadata": {},
   "outputs": [],
   "source": [
    "#Create and define variables of net_total and total_months\n",
    "total_months=len(date)\n",
    "net_total = sum(profit_losses)"
   ]
  },
  {
   "cell_type": "code",
   "execution_count": 652,
   "metadata": {},
   "outputs": [],
   "source": [
    "#Create and define variables to calculate avg_change\n",
    "profit_losses_dif=numpy.diff(profit_losses)\n",
    "avg_change=round(sum(profit_losses_dif) / len(profit_losses_dif), 2)"
   ]
  },
  {
   "cell_type": "code",
   "execution_count": 653,
   "metadata": {},
   "outputs": [],
   "source": [
    "#Create dictionary to call key-value pairs of profit_losses_dif and date\n",
    "budget_data_dif=dict(zip(profit_losses_dif, date[1:86]))\n",
    "\n",
    "#Create and define variables to calculate Greatest Increase and Greatest Decrease in Profit using dudget_data_dif dictionary\n",
    "for key, value in budget_data_dif.items():\n",
    "    grtest_profit_inc=(f'(${max(profit_losses_dif)}) in {budget_data_dif[max(profit_losses_dif)]}')\n",
    "    grtest_profit_dec=(f'(${min(profit_losses_dif)}) in {budget_data_dif[min(profit_losses_dif)]}')"
   ]
  },
  {
   "cell_type": "code",
   "execution_count": 654,
   "metadata": {},
   "outputs": [
    {
     "name": "stdout",
     "output_type": "stream",
     "text": [
      "Financial Analysis\n",
      "---------------------\n",
      "Total Months: 86\n",
      "Total:  $38382578\n",
      "Average change: $-2315.12\n",
      "Greatest Increase in Profits: ($1926159) in Feb-2012\n",
      "Greatest Decrease in Profits: ($-2196167) in Sep-2013\n"
     ]
    }
   ],
   "source": [
    "#Print Results\n",
    "print('Financial Analysis')\n",
    "print(\"---------------------\")\n",
    "print(f\"Total Months: {total_months}\")\n",
    "print(f\"Total:  ${net_total}\")\n",
    "print(f\"Average change: ${avg_change}\")\n",
    "print(f\"Greatest Increase in Profits: {grtest_profit_inc}\")\n",
    "print(f\"Greatest Decrease in Profits: {grtest_profit_dec}\")"
   ]
  },
  {
   "cell_type": "code",
   "execution_count": 655,
   "metadata": {},
   "outputs": [],
   "source": [
    "#Create Variables for Output text file\n",
    "header_agg=['Total Months', 'Net Total', 'Average Change', 'Greatest Increse in Profits', 'Greatest Decrease in Profits']\n",
    "output=[total_months, net_total, avg_change, grtest_profit_inc, grtest_profit_dec]\n",
    "\n",
    "#Set ouput path\n",
    "financial_analysis_path=Path('financial_analysis.csv')\n",
    "\n",
    "#Write ouput csv file for our results\n",
    "with open(financial_analysis_path, 'w') as file:\n",
    "    csvwriter=csv.writer(file)\n",
    "    csvwriter.writerow(header_agg)\n",
    "    csvwriter.writerow(output)"
   ]
  },
  {
   "cell_type": "code",
   "execution_count": null,
   "metadata": {},
   "outputs": [],
   "source": []
  }
 ],
 "metadata": {
  "kernelspec": {
   "display_name": "Python 3",
   "language": "python",
   "name": "python3"
  },
  "language_info": {
   "codemirror_mode": {
    "name": "ipython",
    "version": 3
   },
   "file_extension": ".py",
   "mimetype": "text/x-python",
   "name": "python",
   "nbconvert_exporter": "python",
   "pygments_lexer": "ipython3",
   "version": "3.7.7"
  }
 },
 "nbformat": 4,
 "nbformat_minor": 4
}
